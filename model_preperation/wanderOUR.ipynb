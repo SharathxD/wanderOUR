{
 "cells": [
  {
   "cell_type": "markdown",
   "id": "007195c4-0a9d-4a45-ab90-1b89aa2c6678",
   "metadata": {},
   "source": [
    "# IMPORTS"
   ]
  },
  {
   "cell_type": "code",
   "execution_count": null,
   "id": "90ea0bc4-94bc-42c4-a679-bf80ec7ceaea",
   "metadata": {},
   "outputs": [],
   "source": [
    "import pathlib\n",
    "import numpy as np\n",
    "import pandas as pd\n",
    "import tensorflow as tf\n",
    "import os\n",
    "import matplotlib.pyplot as plt\n",
    "import matplotlib.image as mpimg\n",
    "import random"
   ]
  },
  {
   "cell_type": "code",
   "execution_count": null,
   "id": "dfa694b9-c9f1-4dd2-9fd6-02c95f9047b0",
   "metadata": {},
   "outputs": [],
   "source": [
    "path = \"Indian-monuments//images\"\n",
    "for dirpath, dirnames, filenames in os.walk(path):\n",
    "  print(f\"There are {len(dirnames)} directories and {len(filenames)} images in '{dirpath}'.\")"
   ]
  },
  {
   "cell_type": "code",
   "execution_count": null,
   "id": "844f341e-c988-43e9-947b-5dc455596f67",
   "metadata": {},
   "outputs": [],
   "source": [
    "train_dir =  path + \"/train/\"\n",
    "test_dir = path + \"/test/\"\n",
    "train_dir"
   ]
  },
  {
   "cell_type": "code",
   "execution_count": null,
   "id": "ae41fe13-3078-4075-b4be-f4e7afe8b25b",
   "metadata": {},
   "outputs": [],
   "source": [
    "test_dir"
   ]
  },
  {
   "cell_type": "code",
   "execution_count": null,
   "id": "22749ab3-efe3-44ef-ad5b-b4eaa8224e1b",
   "metadata": {},
   "outputs": [],
   "source": [
    "data_dir = pathlib.Path(train_dir)\n",
    "class_names = np.array(sorted([item.name for item in data_dir.glob(\"*\")]))\n",
    "class_names"
   ]
  },
  {
   "cell_type": "code",
   "execution_count": null,
   "id": "465e8787-02e8-4be6-9603-d9ba574aefbb",
   "metadata": {},
   "outputs": [],
   "source": [
    "def view_random_image(target_dir, target_class):\n",
    "    target_folder = target_dir  + target_class\n",
    "    random_image = random.sample(os.listdir(target_folder), 1)\n",
    "    img = mpimg.imread(target_folder + \"/\" + random_image[0])\n",
    "    plt.imshow(img)\n",
    "    plt.title(target_class)\n",
    "    plt.axis(\"off\");\n",
    "    print(f\"Image shape: {img.shape}\") \n",
    "    return img"
   ]
  },
  {
   "cell_type": "code",
   "execution_count": null,
   "id": "3d1ef8a7-c275-45a3-88e0-03801b3f1232",
   "metadata": {},
   "outputs": [],
   "source": [
    "import random\n",
    "img = view_random_image(target_dir=train_dir, target_class=random.choice(class_names))"
   ]
  },
  {
   "cell_type": "code",
   "execution_count": null,
   "id": "c5463407-0578-49ff-9010-16e9f2b5d6af",
   "metadata": {},
   "outputs": [],
   "source": [
    "from tensorflow.keras.preprocessing.image import ImageDataGenerator\n",
    "from tensorflow.keras.models import Sequential\n",
    "from tensorflow.keras.layers import Conv2D, MaxPool2D, Flatten, Dense\n",
    "train_datagen = ImageDataGenerator(rescale=1/255.)\n",
    "test_datagen = ImageDataGenerator(rescale=1/255.)\n",
    "\n",
    "train_data = train_datagen.flow_from_directory(train_dir,\n",
    "                                               target_size=(300, 300),\n",
    "                                               batch_size=32,\n",
    "                                               class_mode='categorical') \n",
    "\n",
    "\n",
    "test_data = train_datagen.flow_from_directory(test_dir,\n",
    "                                              target_size=(300, 300),\n",
    "                                              batch_size=32,\n",
    "                                              class_mode='categorical')"
   ]
  },
  {
   "cell_type": "code",
   "execution_count": null,
   "id": "69148036-c7b3-44f4-816e-e74a66056ff6",
   "metadata": {},
   "outputs": [],
   "source": [
    "model_10 = Sequential([\n",
    "  Conv2D(10, 3, activation='relu', input_shape=(300, 300, 3)),\n",
    "  MaxPool2D(),\n",
    "  Conv2D(10, 3, activation='relu'),\n",
    "  MaxPool2D(),\n",
    "  Flatten(),\n",
    "  Dense(24, activation='softmax')\n",
    "])"
   ]
  },
  {
   "cell_type": "code",
   "execution_count": null,
   "id": "079ec0aa-7143-4245-8a15-626a9988d225",
   "metadata": {},
   "outputs": [],
   "source": [
    "model_10.compile(loss='categorical_crossentropy',\n",
    "                 optimizer=tf.keras.optimizers.Adam(),\n",
    "                 metrics=['accuracy'])\n",
    "\n",
    "history_10 = model_10.fit(train_data,\n",
    "                          epochs=5,\n",
    "                          steps_per_epoch=len(train_data),\n",
    "                          validation_data=test_data,\n",
    "                          validation_steps=len(test_data))"
   ]
  },
  {
   "cell_type": "code",
   "execution_count": null,
   "id": "b54ebf26-d5bc-42a4-8cbd-32586cdc2878",
   "metadata": {},
   "outputs": [],
   "source": [
    "def load_and_prep_image(filename, img_shape=300):\n",
    "  img = tf.io.read_file(filename)\n",
    "  img = tf.image.decode_image(img, channels=3)\n",
    "  img = tf.image.resize(img, size = [img_shape, img_shape])\n",
    "  img = img/255.    \n",
    "  return img\n",
    "\n",
    "\n",
    "def pred_and_plot(model, filename, class_names):\n",
    "  img = load_and_prep_image(filename)\n",
    "  pred = model.predict(tf.expand_dims(img, axis=0))\n",
    "  if len(pred[0]) > 1: \n",
    "    pred_class = class_names[pred.argmax()]\n",
    "  else:\n",
    "    pred_class = class_names[int(tf.round(pred)[0][0])] \n",
    "  plt.imshow(img)\n",
    "  plt.title(f\"Prediction made: {pred_class}\")\n",
    "  plt.axis(False);"
   ]
  },
  {
   "cell_type": "code",
   "execution_count": null,
   "id": "d644e23d-5296-492e-9208-884f9a74086c",
   "metadata": {},
   "outputs": [],
   "source": [
    "\n",
    "pred_and_plot(model_10, \"Indian-monuments//images//test//tanjavur temple//20.jpeg\", class_names)"
   ]
  },
  {
   "cell_type": "code",
   "execution_count": null,
   "id": "c481249b-aef2-4cbb-bc9e-ea0392868b68",
   "metadata": {},
   "outputs": [],
   "source": [
    "pred_and_plot(model_10, \"Indian-monuments//images//test//Sun Temple Konark//14.jpg\", class_names)"
   ]
  },
  {
   "cell_type": "code",
   "execution_count": null,
   "id": "79baa0ff-b46d-4d5d-9b4d-e5e545f4877d",
   "metadata": {},
   "outputs": [],
   "source": [
    "pred_and_plot(model_10, \"Indian-monuments//images//test//tajmahal//92.jpg\", class_names)    "
   ]
  },
  {
   "cell_type": "code",
   "execution_count": null,
   "id": "5ecbf4d1-7f16-40a6-ae28-3d0ec0078125",
   "metadata": {},
   "outputs": [],
   "source": [
    "pred_and_plot(model_10,\"Indian-monuments//images//test//Bgscet//test3.jpg\",class_names)"
   ]
  },
  {
   "cell_type": "code",
   "execution_count": null,
   "id": "1f0d59d6-7d87-45b0-805b-7a83f089d460",
   "metadata": {},
   "outputs": [],
   "source": [
    "model_10.save('my_combined_model.h5')"
   ]
  },
  {
   "cell_type": "code",
   "execution_count": null,
   "id": "0653c007-0d25-4705-a041-a2aae3ff3e65",
   "metadata": {},
   "outputs": [],
   "source": []
  }
 ],
 "metadata": {
  "kernelspec": {
   "display_name": "Python 3 (ipykernel)",
   "language": "python",
   "name": "python3"
  },
  "language_info": {
   "codemirror_mode": {
    "name": "ipython",
    "version": 3
   },
   "file_extension": ".py",
   "mimetype": "text/x-python",
   "name": "python",
   "nbconvert_exporter": "python",
   "pygments_lexer": "ipython3",
   "version": "3.11.7"
  }
 },
 "nbformat": 4,
 "nbformat_minor": 5
}
